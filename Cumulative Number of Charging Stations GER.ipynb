{
 "cells": [
  {
   "cell_type": "code",
   "execution_count": 6,
   "id": "d1be3d45",
   "metadata": {},
   "outputs": [
    {
     "name": "stdout",
     "output_type": "stream",
     "text": [
      "Cumulative Number of Charging Stations per Year:\n",
      "year\n",
      "1992        1\n",
      "2001        2\n",
      "2007        4\n",
      "2008        5\n",
      "2009       57\n",
      "2010      127\n",
      "2011      325\n",
      "2012      506\n",
      "2013      634\n",
      "2014      884\n",
      "2015     1404\n",
      "2016     2532\n",
      "2017     4415\n",
      "2018     8196\n",
      "2019    13005\n",
      "2020    18568\n",
      "2021    26435\n",
      "2022    35592\n",
      "2023    36770\n",
      "dtype: int64\n"
     ]
    }
   ],
   "source": [
    "import pandas as pd\n",
    "\n",
    "charging_data = pd.read_csv('charging_data.csv')\n",
    "charging_data['inbetriebnahmedatum'] = pd.to_datetime(charging_data['inbetriebnahmedatum'])\n",
    "charging_data['year'] = charging_data['inbetriebnahmedatum'].dt.year\n",
    "charging_stations_per_year = charging_data.groupby('year').size()\n",
    "cumulative_charging_stations = charging_stations_per_year.cumsum() #summe kummuliert\n",
    "\n",
    "print(\"Cumulative Number of Charging Stations per Year:\")\n",
    "print(cumulative_charging_stations)"
   ]
  }
 ],
 "metadata": {
  "kernelspec": {
   "display_name": "Python 3 (ipykernel)",
   "language": "python",
   "name": "python3"
  },
  "language_info": {
   "codemirror_mode": {
    "name": "ipython",
    "version": 3
   },
   "file_extension": ".py",
   "mimetype": "text/x-python",
   "name": "python",
   "nbconvert_exporter": "python",
   "pygments_lexer": "ipython3",
   "version": "3.11.5"
  }
 },
 "nbformat": 4,
 "nbformat_minor": 5
}
